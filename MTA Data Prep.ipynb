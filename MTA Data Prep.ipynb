{
 "cells": [
  {
   "cell_type": "code",
   "execution_count": 2,
   "id": "3d265753",
   "metadata": {},
   "outputs": [],
   "source": [
    "import pandas as pd\n",
    "import numpy as np\n",
    "import datetime as dt\n",
    "import numpy as np\n",
    "import warnings\n",
    "import pandas as pd\n",
    "from pandas.core.common import SettingWithCopyWarning\n",
    "import calendar"
   ]
  },
  {
   "cell_type": "code",
   "execution_count": 3,
   "id": "ef9ffad4",
   "metadata": {},
   "outputs": [],
   "source": [
    "warnings.simplefilter(action=\"ignore\", category=SettingWithCopyWarning)\n",
    "\n",
    "def Extract_MTA_Data(first_date,last_date):\n",
    "    #Taking 1 day extra on both sides to handle boundary values\n",
    "    first_date_x = first_date - pd.Timedelta(days=1)        \n",
    "    last_date_x = last_date + pd.Timedelta(days=1)\n",
    "    \n",
    "    #Creating URL to import data and the format for each week of data\n",
    "    url_format = \"http://web.mta.info/developers/data/nyct/turnstile/turnstile_{}.txt\"    \n",
    "    startweek = first_date_x - dt.timedelta(((first_date_x.weekday() + 1) % 7)+1)\n",
    "    currentweek = startweek\n",
    "    lastweek = last_date_x + pd.Timedelta(days=7)\n",
    "    weekly = []\n",
    "    \n",
    "    #Importing raw data from MTA\n",
    "    while currentweek <= lastweek:\n",
    "        dateformat = str(currentweek.year)[2:4] + str(currentweek.month).zfill(2) + str(currentweek.day).zfill(2)\n",
    "        url = url_format.format(dateformat)\n",
    "        temp = pd.read_csv(url, parse_dates=['DATE'], keep_date_col=True)\n",
    "        temp = temp.rename({'EXITS                                                               ':'EXITS'},axis=1)\n",
    "        weekly.append(temp)\n",
    "        currentweek += pd.Timedelta(days=7)\n",
    "    \n",
    "    #Concatenating all weeks together\n",
    "    temp_df = pd.concat(weekly, axis=0, ignore_index=True).reset_index(drop=True)\n",
    "    temp_df = Get_Real_Turnstile_Count(temp_df)\n",
    "    temp_df = Process_MTA_Data(temp_df,bins=6)\n",
    "    \n",
    "    #Keeping only data within bounds\n",
    "    return temp_df[(temp_df['DATE'] >= first_date) & (temp_df['DATE'] <= last_date)].reset_index(drop=True)\n",
    "  \n",
    "def Get_Real_Turnstile_Count(df):\n",
    "    x_=[]\n",
    "    df = df.groupby(['STATION','C/A','UNIT','SCP','DATE','TIME','DESC']).agg({\"EXITS\":'mean',\"ENTRIES\":'mean'})\n",
    "    df = df.reset_index(drop=False).set_index(['STATION','C/A','UNIT','SCP','DESC'])\n",
    "    for n,i in enumerate(df.index.unique()):\n",
    "        temp = df[df.index == i]\n",
    "        temp['EXIT'] = temp['EXITS']-temp['EXITS'].shift()\n",
    "        temp['ENTRY'] = temp['ENTRIES']-temp['ENTRIES'].shift()\n",
    "        temp = temp.reset_index(drop=True)\n",
    "        x_.append(temp)\n",
    "    df = pd.concat(x_, axis=0, ignore_index=True)\n",
    "    \n",
    "    #Handling Bad data\n",
    "    df.loc[df['EXIT']<0,'EXIT']=df.loc[df['EXIT']<0,'EXITS']\n",
    "    df.loc[df['ENTRY']<0,'ENTRY']=df.loc[df['ENTRY']<0,'ENTRIES']\n",
    "    df.loc[df['EXIT']>np.nanpercentile(df['EXIT'],99),'EXIT']=np.nanpercentile(df['EXIT'],50)\n",
    "    df.loc[df['ENTRY']>np.nanpercentile(df['ENTRY'],99),'ENTRY']=np.nanpercentile(df['ENTRY'],50)\n",
    "    df = df[['DATE','TIME','EXIT','ENTRY']]\n",
    "    return df\n",
    "\n",
    "def Process_MTA_Data(df,bins=6):\n",
    "    df['Hour'] = df['TIME'].str[:2].apply(int)\n",
    "    df['HOUR_BIN'] = df['Hour'].apply(binning)\n",
    "    df = df.drop('Hour',axis=1)\n",
    "    df = df.groupby(['DATE','HOUR_BIN']).sum().reset_index(drop=False)\n",
    "    return df\n",
    "\n",
    "def binning(x,bins=6):\n",
    "    return x-(x%(24//bins))\n",
    "\n",
    "def monthfilter(year,month):\n",
    "    _, num_days = calendar.monthrange(year,month)\n",
    "    first_day = pd.Timestamp('{}-{}-{} 00:00:00'.format(year, month,1 ))\n",
    "    last_day = pd.Timestamp('{}-{}-{} 00:00:00'.format(year, month,num_days ))\n",
    "    return first_day,last_day"
   ]
  },
  {
   "cell_type": "code",
   "execution_count": 4,
   "id": "e4a1a199",
   "metadata": {
    "scrolled": true
   },
   "outputs": [
    {
     "name": "stdout",
     "output_type": "stream",
     "text": [
      "1 / 24\n",
      "2 / 24\n",
      "3 / 24\n",
      "4 / 24\n",
      "5 / 24\n",
      "6 / 24\n",
      "7 / 24\n",
      "8 / 24\n",
      "9 / 24\n",
      "10 / 24\n",
      "11 / 24\n",
      "12 / 24\n",
      "13 / 24\n",
      "14 / 24\n",
      "15 / 24\n",
      "16 / 24\n",
      "17 / 24\n",
      "18 / 24\n",
      "19 / 24\n",
      "20 / 24\n",
      "21 / 24\n",
      "22 / 24\n",
      "23 / 24\n",
      "24 / 24\n",
      "CPU times: user 3h 2min 2s, sys: 2min 45s, total: 3h 4min 47s\n",
      "Wall time: 3h 7min 36s\n"
     ]
    }
   ],
   "source": [
    "%%time\n",
    "\n",
    "Years = [2018,2019]\n",
    "Months = range(1,13)\n",
    "n=0\n",
    "for Year in Years:\n",
    "    for Month in Months:\n",
    "        F = Extract_MTA_Data(monthfilter(Year,Month)[0],monthfilter(Year,Month)[1])\n",
    "        F.to_csv('MTA_'+str(Year)+'_'+str(Month))\n",
    "        n+=1\n",
    "        print(n,\"/\",len(Years)*len(Months))"
   ]
  },
  {
   "cell_type": "code",
   "execution_count": 22,
   "id": "475dbe30",
   "metadata": {},
   "outputs": [],
   "source": [
    "import os\n",
    "x_ = []\n",
    "for i in os.listdir():\n",
    "    if \"MTA_20\" in i:\n",
    "        x_.append(pd.read_csv(i,parse_dates=['DATE'])[['DATE','HOUR_BIN','EXIT','ENTRY']])\n",
    "DF_MTA = pd.concat(x_,axis=0)"
   ]
  },
  {
   "cell_type": "code",
   "execution_count": 24,
   "id": "84d29922",
   "metadata": {},
   "outputs": [
    {
     "data": {
      "text/html": [
       "<div>\n",
       "<style scoped>\n",
       "    .dataframe tbody tr th:only-of-type {\n",
       "        vertical-align: middle;\n",
       "    }\n",
       "\n",
       "    .dataframe tbody tr th {\n",
       "        vertical-align: top;\n",
       "    }\n",
       "\n",
       "    .dataframe thead th {\n",
       "        text-align: right;\n",
       "    }\n",
       "</style>\n",
       "<table border=\"1\" class=\"dataframe\">\n",
       "  <thead>\n",
       "    <tr style=\"text-align: right;\">\n",
       "      <th></th>\n",
       "      <th>DATE</th>\n",
       "      <th>HOUR_BIN</th>\n",
       "      <th>EXIT</th>\n",
       "      <th>ENTRY</th>\n",
       "    </tr>\n",
       "  </thead>\n",
       "  <tbody>\n",
       "    <tr>\n",
       "      <th>0</th>\n",
       "      <td>2019-02-01</td>\n",
       "      <td>0</td>\n",
       "      <td>244876.0</td>\n",
       "      <td>260664.0</td>\n",
       "    </tr>\n",
       "    <tr>\n",
       "      <th>1</th>\n",
       "      <td>2019-02-01</td>\n",
       "      <td>4</td>\n",
       "      <td>141647.0</td>\n",
       "      <td>224168.0</td>\n",
       "    </tr>\n",
       "    <tr>\n",
       "      <th>2</th>\n",
       "      <td>2019-02-01</td>\n",
       "      <td>8</td>\n",
       "      <td>937911.0</td>\n",
       "      <td>1314475.0</td>\n",
       "    </tr>\n",
       "    <tr>\n",
       "      <th>3</th>\n",
       "      <td>2019-02-01</td>\n",
       "      <td>12</td>\n",
       "      <td>790770.0</td>\n",
       "      <td>1042393.0</td>\n",
       "    </tr>\n",
       "    <tr>\n",
       "      <th>4</th>\n",
       "      <td>2019-02-01</td>\n",
       "      <td>16</td>\n",
       "      <td>1047987.0</td>\n",
       "      <td>1506906.0</td>\n",
       "    </tr>\n",
       "  </tbody>\n",
       "</table>\n",
       "</div>"
      ],
      "text/plain": [
       "        DATE  HOUR_BIN       EXIT      ENTRY\n",
       "0 2019-02-01         0   244876.0   260664.0\n",
       "1 2019-02-01         4   141647.0   224168.0\n",
       "2 2019-02-01         8   937911.0  1314475.0\n",
       "3 2019-02-01        12   790770.0  1042393.0\n",
       "4 2019-02-01        16  1047987.0  1506906.0"
      ]
     },
     "execution_count": 24,
     "metadata": {},
     "output_type": "execute_result"
    }
   ],
   "source": [
    "DF_MTA.head()"
   ]
  },
  {
   "cell_type": "code",
   "execution_count": 25,
   "id": "4adab1a6",
   "metadata": {},
   "outputs": [
    {
     "data": {
      "text/html": [
       "<div>\n",
       "<style scoped>\n",
       "    .dataframe tbody tr th:only-of-type {\n",
       "        vertical-align: middle;\n",
       "    }\n",
       "\n",
       "    .dataframe tbody tr th {\n",
       "        vertical-align: top;\n",
       "    }\n",
       "\n",
       "    .dataframe thead th {\n",
       "        text-align: right;\n",
       "    }\n",
       "</style>\n",
       "<table border=\"1\" class=\"dataframe\">\n",
       "  <thead>\n",
       "    <tr style=\"text-align: right;\">\n",
       "      <th></th>\n",
       "      <th>DATE</th>\n",
       "      <th>HOUR_BIN</th>\n",
       "      <th>EXIT</th>\n",
       "      <th>ENTRY</th>\n",
       "    </tr>\n",
       "  </thead>\n",
       "  <tbody>\n",
       "    <tr>\n",
       "      <th>175</th>\n",
       "      <td>2018-04-30</td>\n",
       "      <td>4</td>\n",
       "      <td>73401.0</td>\n",
       "      <td>73926.0</td>\n",
       "    </tr>\n",
       "    <tr>\n",
       "      <th>176</th>\n",
       "      <td>2018-04-30</td>\n",
       "      <td>8</td>\n",
       "      <td>660598.0</td>\n",
       "      <td>1102454.0</td>\n",
       "    </tr>\n",
       "    <tr>\n",
       "      <th>177</th>\n",
       "      <td>2018-04-30</td>\n",
       "      <td>12</td>\n",
       "      <td>998121.0</td>\n",
       "      <td>1279715.0</td>\n",
       "    </tr>\n",
       "    <tr>\n",
       "      <th>178</th>\n",
       "      <td>2018-04-30</td>\n",
       "      <td>16</td>\n",
       "      <td>880397.0</td>\n",
       "      <td>1278812.0</td>\n",
       "    </tr>\n",
       "    <tr>\n",
       "      <th>179</th>\n",
       "      <td>2018-04-30</td>\n",
       "      <td>20</td>\n",
       "      <td>1180735.0</td>\n",
       "      <td>1602690.0</td>\n",
       "    </tr>\n",
       "  </tbody>\n",
       "</table>\n",
       "</div>"
      ],
      "text/plain": [
       "          DATE  HOUR_BIN       EXIT      ENTRY\n",
       "175 2018-04-30         4    73401.0    73926.0\n",
       "176 2018-04-30         8   660598.0  1102454.0\n",
       "177 2018-04-30        12   998121.0  1279715.0\n",
       "178 2018-04-30        16   880397.0  1278812.0\n",
       "179 2018-04-30        20  1180735.0  1602690.0"
      ]
     },
     "execution_count": 25,
     "metadata": {},
     "output_type": "execute_result"
    }
   ],
   "source": [
    "DF_MTA.tail()"
   ]
  },
  {
   "cell_type": "code",
   "execution_count": 27,
   "id": "facf4dc2",
   "metadata": {},
   "outputs": [
    {
     "data": {
      "text/plain": [
       "(4380, 4)"
      ]
     },
     "execution_count": 27,
     "metadata": {},
     "output_type": "execute_result"
    }
   ],
   "source": [
    "DF_MTA.shape"
   ]
  },
  {
   "cell_type": "code",
   "execution_count": 28,
   "id": "d71ff193",
   "metadata": {},
   "outputs": [],
   "source": [
    "DF_MTA.to_csv('DF_MTA')"
   ]
  }
 ],
 "metadata": {
  "kernelspec": {
   "display_name": "Python 3 (ipykernel)",
   "language": "python",
   "name": "python3"
  },
  "language_info": {
   "codemirror_mode": {
    "name": "ipython",
    "version": 3
   },
   "file_extension": ".py",
   "mimetype": "text/x-python",
   "name": "python",
   "nbconvert_exporter": "python",
   "pygments_lexer": "ipython3",
   "version": "3.9.12"
  }
 },
 "nbformat": 4,
 "nbformat_minor": 5
}
