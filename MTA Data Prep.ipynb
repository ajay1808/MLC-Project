{
 "cells": [
  {
   "cell_type": "code",
   "execution_count": 2,
   "id": "3d265753",
   "metadata": {},
   "outputs": [],
   "source": [
    "import pandas as pd\n",
    "import numpy as np\n",
    "import datetime as dt\n",
    "import numpy as np\n",
    "import warnings\n",
    "import pandas as pd\n",
    "from pandas.core.common import SettingWithCopyWarning\n",
    "import calendar"
   ]
  },
  {
   "cell_type": "code",
   "execution_count": 3,
   "id": "ef9ffad4",
   "metadata": {},
   "outputs": [],
   "source": [
    "warnings.simplefilter(action=\"ignore\", category=SettingWithCopyWarning)\n",
    "\n",
    "def Extract_MTA_Data(first_date,last_date):\n",
    "    #Taking 1 day extra on both sides to handle boundary values\n",
    "    first_date_x = first_date - pd.Timedelta(days=1)        \n",
    "    last_date_x = last_date + pd.Timedelta(days=1)\n",
    "    \n",
    "    #Creating URL to import data and the format for each week of data\n",
    "    url_format = \"http://web.mta.info/developers/data/nyct/turnstile/turnstile_{}.txt\"    \n",
    "    startweek = first_date_x - dt.timedelta(((first_date_x.weekday() + 1) % 7)+1)\n",
    "    currentweek = startweek\n",
    "    lastweek = last_date_x + pd.Timedelta(days=7)\n",
    "    weekly = []\n",
    "    \n",
    "    #Importing raw data from MTA\n",
    "    while currentweek <= lastweek:\n",
    "        dateformat = str(currentweek.year)[2:4] + str(currentweek.month).zfill(2) + str(currentweek.day).zfill(2)\n",
    "        url = url_format.format(dateformat)\n",
    "        temp = pd.read_csv(url, parse_dates=['DATE'], keep_date_col=True)\n",
    "        temp = temp.rename({'EXITS                                                               ':'EXITS'},axis=1)\n",
    "        weekly.append(temp)\n",
    "        currentweek += pd.Timedelta(days=7)\n",
    "    \n",
    "    #Concatenating all weeks together\n",
    "    temp_df = pd.concat(weekly, axis=0, ignore_index=True).reset_index(drop=True)\n",
    "    temp_df = Get_Real_Turnstile_Count(temp_df)\n",
    "    temp_df = Process_MTA_Data(temp_df,bins=6)\n",
    "    \n",
    "    #Keeping only data within bounds\n",
    "    return temp_df[(temp_df['DATE'] >= first_date) & (temp_df['DATE'] <= last_date)].reset_index(drop=True)\n",
    "  \n",
    "def Get_Real_Turnstile_Count(df):\n",
    "    x_=[]\n",
    "    df = df.groupby(['STATION','C/A','UNIT','SCP','DATE','TIME','DESC']).agg({\"EXITS\":'mean',\"ENTRIES\":'mean'})\n",
    "    df = df.reset_index(drop=False).set_index(['STATION','C/A','UNIT','SCP','DESC'])\n",
    "    for n,i in enumerate(df.index.unique()):\n",
    "        temp = df[df.index == i]\n",
    "        temp['EXIT'] = temp['EXITS']-temp['EXITS'].shift()\n",
    "        temp['ENTRY'] = temp['ENTRIES']-temp['ENTRIES'].shift()\n",
    "        temp = temp.reset_index(drop=True)\n",
    "        x_.append(temp)\n",
    "    df = pd.concat(x_, axis=0, ignore_index=True)\n",
    "    \n",
    "    #Handling Bad data\n",
    "    df.loc[df['EXIT']<0,'EXIT']=df.loc[df['EXIT']<0,'EXITS']\n",
    "    df.loc[df['ENTRY']<0,'ENTRY']=df.loc[df['ENTRY']<0,'ENTRIES']\n",
    "    df.loc[df['EXIT']>np.nanpercentile(df['EXIT'],99),'EXIT']=np.nanpercentile(df['EXIT'],50)\n",
    "    df.loc[df['ENTRY']>np.nanpercentile(df['ENTRY'],99),'ENTRY']=np.nanpercentile(df['ENTRY'],50)\n",
    "    df = df[['DATE','TIME','EXIT','ENTRY']]\n",
    "    return df\n",
    "\n",
    "def Process_MTA_Data(df,bins=6):\n",
    "    df['Hour'] = df['TIME'].str[:2].apply(int)\n",
    "    df['HOUR_BIN'] = df['Hour'].apply(binning)\n",
    "    df = df.drop('Hour',axis=1)\n",
    "    df = df.groupby(['DATE','HOUR_BIN']).sum().reset_index(drop=False)\n",
    "    return df\n",
    "\n",
    "def binning(x,bins=6):\n",
    "    return x-(x%(24//bins))\n",
    "\n",
    "def monthfilter(year,month):\n",
    "    _, num_days = calendar.monthrange(year,month)\n",
    "    first_day = pd.Timestamp('{}-{}-{} 00:00:00'.format(year, month,1 ))\n",
    "    last_day = pd.Timestamp('{}-{}-{} 00:00:00'.format(year, month,num_days ))\n",
    "    return first_day,last_day"
   ]
  },
  {
   "cell_type": "code",
   "execution_count": 4,
   "id": "e4a1a199",
   "metadata": {
    "scrolled": true
   },
   "outputs": [
    {
     "name": "stdout",
     "output_type": "stream",
     "text": [
      "1 / 24\n",
      "2 / 24\n",
      "3 / 24\n",
      "4 / 24\n",
      "5 / 24\n",
      "6 / 24\n",
      "7 / 24\n",
      "8 / 24\n",
      "9 / 24\n",
      "10 / 24\n",
      "11 / 24\n",
      "12 / 24\n",
      "13 / 24\n",
      "14 / 24\n",
      "15 / 24\n",
      "16 / 24\n",
      "17 / 24\n",
      "18 / 24\n",
      "19 / 24\n",
      "20 / 24\n",
      "21 / 24\n",
      "22 / 24\n",
      "23 / 24\n",
      "24 / 24\n",
      "CPU times: user 3h 2min 2s, sys: 2min 45s, total: 3h 4min 47s\n",
      "Wall time: 3h 7min 36s\n"
     ]
    }
   ],
   "source": [
    "%%time\n",
    "\n",
    "Years = [2018,2019]\n",
    "Months = range(1,13)\n",
    "n=0\n",
    "for Year in Years:\n",
    "    for Month in Months:\n",
    "        F = Extract_MTA_Data(monthfilter(Year,Month)[0],monthfilter(Year,Month)[1])\n",
    "        F.to_csv('MTA_'+str(Year)+'_'+str(Month))\n",
    "        n+=1\n",
    "        print(n,\"/\",len(Years)*len(Months))"
   ]
  },
  {
   "cell_type": "code",
   "execution_count": 22,
   "id": "334b93c0",
   "metadata": {},
   "outputs": [],
   "source": [
    "import os\n",
    "x_ = []\n",
    "for i in os.listdir():\n",
    "    if \"MTA_20\" in i:\n",
    "        x_.append(pd.read_csv(i,parse_dates=['DATE'])[['DATE','HOUR_BIN','EXIT','ENTRY']])\n",
    "DF_MTA = pd.concat(x_,axis=0)"
   ]
  },
  {
   "cell_type": "code",
   "execution_count": 32,
   "id": "88958c74",
   "metadata": {},
   "outputs": [
    {
     "data": {
      "text/html": [
       "<div>\n",
       "<style scoped>\n",
       "    .dataframe tbody tr th:only-of-type {\n",
       "        vertical-align: middle;\n",
       "    }\n",
       "\n",
       "    .dataframe tbody tr th {\n",
       "        vertical-align: top;\n",
       "    }\n",
       "\n",
       "    .dataframe thead th {\n",
       "        text-align: right;\n",
       "    }\n",
       "</style>\n",
       "<table border=\"1\" class=\"dataframe\">\n",
       "  <thead>\n",
       "    <tr style=\"text-align: right;\">\n",
       "      <th></th>\n",
       "      <th>DATE</th>\n",
       "      <th>HOUR_BIN</th>\n",
       "      <th>EXIT</th>\n",
       "      <th>ENTRY</th>\n",
       "    </tr>\n",
       "  </thead>\n",
       "  <tbody>\n",
       "    <tr>\n",
       "      <th>0</th>\n",
       "      <td>2018-01-01</td>\n",
       "      <td>0</td>\n",
       "      <td>283254.0</td>\n",
       "      <td>299794.0</td>\n",
       "    </tr>\n",
       "    <tr>\n",
       "      <th>1</th>\n",
       "      <td>2018-01-01</td>\n",
       "      <td>4</td>\n",
       "      <td>137862.0</td>\n",
       "      <td>146343.0</td>\n",
       "    </tr>\n",
       "    <tr>\n",
       "      <th>2</th>\n",
       "      <td>2018-01-01</td>\n",
       "      <td>8</td>\n",
       "      <td>151154.0</td>\n",
       "      <td>196377.0</td>\n",
       "    </tr>\n",
       "    <tr>\n",
       "      <th>3</th>\n",
       "      <td>2018-01-01</td>\n",
       "      <td>12</td>\n",
       "      <td>328108.0</td>\n",
       "      <td>415589.0</td>\n",
       "    </tr>\n",
       "    <tr>\n",
       "      <th>4</th>\n",
       "      <td>2018-01-01</td>\n",
       "      <td>16</td>\n",
       "      <td>492717.0</td>\n",
       "      <td>594243.0</td>\n",
       "    </tr>\n",
       "  </tbody>\n",
       "</table>\n",
       "</div>"
      ],
      "text/plain": [
       "        DATE  HOUR_BIN      EXIT     ENTRY\n",
       "0 2018-01-01         0  283254.0  299794.0\n",
       "1 2018-01-01         4  137862.0  146343.0\n",
       "2 2018-01-01         8  151154.0  196377.0\n",
       "3 2018-01-01        12  328108.0  415589.0\n",
       "4 2018-01-01        16  492717.0  594243.0"
      ]
     },
     "execution_count": 32,
     "metadata": {},
     "output_type": "execute_result"
    }
   ],
   "source": [
    "DF_MTA.head()"
   ]
  },
  {
   "cell_type": "code",
   "execution_count": 33,
   "id": "95c4949c",
   "metadata": {},
   "outputs": [
    {
     "data": {
      "text/html": [
       "<div>\n",
       "<style scoped>\n",
       "    .dataframe tbody tr th:only-of-type {\n",
       "        vertical-align: middle;\n",
       "    }\n",
       "\n",
       "    .dataframe tbody tr th {\n",
       "        vertical-align: top;\n",
       "    }\n",
       "\n",
       "    .dataframe thead th {\n",
       "        text-align: right;\n",
       "    }\n",
       "</style>\n",
       "<table border=\"1\" class=\"dataframe\">\n",
       "  <thead>\n",
       "    <tr style=\"text-align: right;\">\n",
       "      <th></th>\n",
       "      <th>DATE</th>\n",
       "      <th>HOUR_BIN</th>\n",
       "      <th>EXIT</th>\n",
       "      <th>ENTRY</th>\n",
       "    </tr>\n",
       "  </thead>\n",
       "  <tbody>\n",
       "    <tr>\n",
       "      <th>181</th>\n",
       "      <td>2019-12-31</td>\n",
       "      <td>4</td>\n",
       "      <td>137058.0</td>\n",
       "      <td>175073.0</td>\n",
       "    </tr>\n",
       "    <tr>\n",
       "      <th>182</th>\n",
       "      <td>2019-12-31</td>\n",
       "      <td>8</td>\n",
       "      <td>588964.0</td>\n",
       "      <td>736485.0</td>\n",
       "    </tr>\n",
       "    <tr>\n",
       "      <th>183</th>\n",
       "      <td>2019-12-31</td>\n",
       "      <td>12</td>\n",
       "      <td>796791.0</td>\n",
       "      <td>997440.0</td>\n",
       "    </tr>\n",
       "    <tr>\n",
       "      <th>184</th>\n",
       "      <td>2019-12-31</td>\n",
       "      <td>16</td>\n",
       "      <td>973974.0</td>\n",
       "      <td>1236863.0</td>\n",
       "    </tr>\n",
       "    <tr>\n",
       "      <th>185</th>\n",
       "      <td>2019-12-31</td>\n",
       "      <td>20</td>\n",
       "      <td>716006.0</td>\n",
       "      <td>800870.0</td>\n",
       "    </tr>\n",
       "  </tbody>\n",
       "</table>\n",
       "</div>"
      ],
      "text/plain": [
       "          DATE  HOUR_BIN      EXIT      ENTRY\n",
       "181 2019-12-31         4  137058.0   175073.0\n",
       "182 2019-12-31         8  588964.0   736485.0\n",
       "183 2019-12-31        12  796791.0   997440.0\n",
       "184 2019-12-31        16  973974.0  1236863.0\n",
       "185 2019-12-31        20  716006.0   800870.0"
      ]
     },
     "execution_count": 33,
     "metadata": {},
     "output_type": "execute_result"
    }
   ],
   "source": [
    "DF_MTA.tail()"
   ]
  },
  {
   "cell_type": "code",
   "execution_count": 34,
   "id": "82301d5a",
   "metadata": {},
   "outputs": [
    {
     "data": {
      "text/plain": [
       "(4380, 4)"
      ]
     },
     "execution_count": 34,
     "metadata": {},
     "output_type": "execute_result"
    }
   ],
   "source": [
    "DF_MTA.shape"
   ]
  },
  {
   "cell_type": "code",
   "execution_count": 35,
   "id": "59beef17",
   "metadata": {},
   "outputs": [],
   "source": [
    "DF_MTA = DF_MTA.sort_values(['DATE','HOUR_BIN'])"
   ]
  },
  {
   "cell_type": "code",
   "execution_count": 36,
   "id": "a0d9685b",
   "metadata": {},
   "outputs": [],
   "source": [
    "DF_MTA.to_csv('DF_MTA')"
   ]
  }
 ],
 "metadata": {
  "kernelspec": {
   "display_name": "Python 3 (ipykernel)",
   "language": "python",
   "name": "python3"
  },
  "language_info": {
   "codemirror_mode": {
    "name": "ipython",
    "version": 3
   },
   "file_extension": ".py",
   "mimetype": "text/x-python",
   "name": "python",
   "nbconvert_exporter": "python",
   "pygments_lexer": "ipython3",
   "version": "3.9.12"
  }
 },
 "nbformat": 4,
 "nbformat_minor": 5
}
