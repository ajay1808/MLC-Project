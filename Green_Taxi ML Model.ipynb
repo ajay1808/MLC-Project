{
 "cells": [
  {
   "cell_type": "code",
   "execution_count": 1,
   "id": "62ad8825",
   "metadata": {},
   "outputs": [],
   "source": [
    "import pandas as pd\n",
    "import numpy as np\n",
    "from sklearn.svm import SVR\n",
    "from sklearn.linear_model import SGDRegressor,LinearRegression\n",
    "from sklearn.pipeline import make_pipeline\n",
    "from sklearn.preprocessing import StandardScaler\n",
    "from sklearn.metrics import explained_variance_score,r2_score\n",
    "from sklearn.model_selection import train_test_split, GridSearchCV\n",
    "import matplotlib.pyplot as plt\n",
    "import seaborn as sns\n",
    "import statsmodels.formula.api as smf\n",
    "from sklearn.tree import DecisionTreeRegressor\n",
    "from sklearn.neighbors import LocalOutlierFactor\n",
    "from sklearn.ensemble import RandomForestRegressor, GradientBoostingRegressor\n",
    "from sklearn.gaussian_process import GaussianProcessRegressor\n",
    "from sklearn.gaussian_process.kernels import RBF, ConstantKernel,WhiteKernel\n",
    "%matplotlib inline"
   ]
  },
  {
   "cell_type": "markdown",
   "id": "c33a7ffd",
   "metadata": {},
   "source": [
    "### Preprocessing"
   ]
  },
  {
   "cell_type": "code",
   "execution_count": 2,
   "id": "66bfaab4",
   "metadata": {},
   "outputs": [
    {
     "data": {
      "text/html": [
       "<div>\n",
       "<style scoped>\n",
       "    .dataframe tbody tr th:only-of-type {\n",
       "        vertical-align: middle;\n",
       "    }\n",
       "\n",
       "    .dataframe tbody tr th {\n",
       "        vertical-align: top;\n",
       "    }\n",
       "\n",
       "    .dataframe thead th {\n",
       "        text-align: right;\n",
       "    }\n",
       "</style>\n",
       "<table border=\"1\" class=\"dataframe\">\n",
       "  <thead>\n",
       "    <tr style=\"text-align: right;\">\n",
       "      <th></th>\n",
       "      <th>Unnamed: 0</th>\n",
       "      <th>Date</th>\n",
       "      <th>HOUR_BIN</th>\n",
       "      <th>Citibike_Y</th>\n",
       "      <th>GreenTaxi_Y</th>\n",
       "      <th>YellowTaxi_Y</th>\n",
       "      <th>MTAExit_Y</th>\n",
       "      <th>MTAEntry_Y</th>\n",
       "      <th>temp</th>\n",
       "      <th>feelslike</th>\n",
       "      <th>...</th>\n",
       "      <th>windspeed</th>\n",
       "      <th>winddir</th>\n",
       "      <th>sealevelpressure</th>\n",
       "      <th>cloudcover</th>\n",
       "      <th>visibility</th>\n",
       "      <th>solarradiation</th>\n",
       "      <th>solarenergy</th>\n",
       "      <th>uvindex</th>\n",
       "      <th>Month</th>\n",
       "      <th>Day of Week</th>\n",
       "    </tr>\n",
       "  </thead>\n",
       "  <tbody>\n",
       "    <tr>\n",
       "      <th>0</th>\n",
       "      <td>0</td>\n",
       "      <td>2018-01-01</td>\n",
       "      <td>0</td>\n",
       "      <td>400</td>\n",
       "      <td>11484.0</td>\n",
       "      <td>109663.0</td>\n",
       "      <td>283254.0</td>\n",
       "      <td>299794.0</td>\n",
       "      <td>-11.575</td>\n",
       "      <td>-16.850</td>\n",
       "      <td>...</td>\n",
       "      <td>9.350</td>\n",
       "      <td>304.25</td>\n",
       "      <td>1026.925</td>\n",
       "      <td>0.00</td>\n",
       "      <td>16.000</td>\n",
       "      <td>0.00</td>\n",
       "      <td>NaN</td>\n",
       "      <td>0.00</td>\n",
       "      <td>1</td>\n",
       "      <td>0</td>\n",
       "    </tr>\n",
       "    <tr>\n",
       "      <th>1</th>\n",
       "      <td>1</td>\n",
       "      <td>2018-01-01</td>\n",
       "      <td>4</td>\n",
       "      <td>233</td>\n",
       "      <td>4268.0</td>\n",
       "      <td>32370.0</td>\n",
       "      <td>137862.0</td>\n",
       "      <td>146343.0</td>\n",
       "      <td>-11.975</td>\n",
       "      <td>-16.600</td>\n",
       "      <td>...</td>\n",
       "      <td>7.775</td>\n",
       "      <td>292.75</td>\n",
       "      <td>1027.925</td>\n",
       "      <td>0.05</td>\n",
       "      <td>16.000</td>\n",
       "      <td>16.25</td>\n",
       "      <td>0.150</td>\n",
       "      <td>0.00</td>\n",
       "      <td>1</td>\n",
       "      <td>0</td>\n",
       "    </tr>\n",
       "    <tr>\n",
       "      <th>2</th>\n",
       "      <td>2</td>\n",
       "      <td>2018-01-01</td>\n",
       "      <td>8</td>\n",
       "      <td>1070</td>\n",
       "      <td>2275.0</td>\n",
       "      <td>42633.0</td>\n",
       "      <td>151154.0</td>\n",
       "      <td>196377.0</td>\n",
       "      <td>-9.025</td>\n",
       "      <td>-13.350</td>\n",
       "      <td>...</td>\n",
       "      <td>8.350</td>\n",
       "      <td>305.50</td>\n",
       "      <td>1028.500</td>\n",
       "      <td>0.25</td>\n",
       "      <td>15.525</td>\n",
       "      <td>330.25</td>\n",
       "      <td>1.175</td>\n",
       "      <td>3.50</td>\n",
       "      <td>1</td>\n",
       "      <td>0</td>\n",
       "    </tr>\n",
       "    <tr>\n",
       "      <th>3</th>\n",
       "      <td>3</td>\n",
       "      <td>2018-01-01</td>\n",
       "      <td>12</td>\n",
       "      <td>1830</td>\n",
       "      <td>4275.0</td>\n",
       "      <td>84638.0</td>\n",
       "      <td>328108.0</td>\n",
       "      <td>415589.0</td>\n",
       "      <td>-5.150</td>\n",
       "      <td>-8.175</td>\n",
       "      <td>...</td>\n",
       "      <td>7.075</td>\n",
       "      <td>320.50</td>\n",
       "      <td>1027.150</td>\n",
       "      <td>0.20</td>\n",
       "      <td>16.000</td>\n",
       "      <td>296.75</td>\n",
       "      <td>1.075</td>\n",
       "      <td>3.25</td>\n",
       "      <td>1</td>\n",
       "      <td>0</td>\n",
       "    </tr>\n",
       "    <tr>\n",
       "      <th>4</th>\n",
       "      <td>4</td>\n",
       "      <td>2018-01-01</td>\n",
       "      <td>16</td>\n",
       "      <td>1422</td>\n",
       "      <td>5761.0</td>\n",
       "      <td>81748.0</td>\n",
       "      <td>492717.0</td>\n",
       "      <td>594243.0</td>\n",
       "      <td>-6.350</td>\n",
       "      <td>-9.775</td>\n",
       "      <td>...</td>\n",
       "      <td>7.775</td>\n",
       "      <td>305.75</td>\n",
       "      <td>1027.750</td>\n",
       "      <td>0.20</td>\n",
       "      <td>16.000</td>\n",
       "      <td>2.50</td>\n",
       "      <td>0.000</td>\n",
       "      <td>0.00</td>\n",
       "      <td>1</td>\n",
       "      <td>0</td>\n",
       "    </tr>\n",
       "  </tbody>\n",
       "</table>\n",
       "<p>5 rows × 27 columns</p>\n",
       "</div>"
      ],
      "text/plain": [
       "   Unnamed: 0        Date  HOUR_BIN  Citibike_Y  GreenTaxi_Y  YellowTaxi_Y  \\\n",
       "0           0  2018-01-01         0         400      11484.0      109663.0   \n",
       "1           1  2018-01-01         4         233       4268.0       32370.0   \n",
       "2           2  2018-01-01         8        1070       2275.0       42633.0   \n",
       "3           3  2018-01-01        12        1830       4275.0       84638.0   \n",
       "4           4  2018-01-01        16        1422       5761.0       81748.0   \n",
       "\n",
       "   MTAExit_Y  MTAEntry_Y    temp  feelslike  ...  windspeed  winddir  \\\n",
       "0   283254.0    299794.0 -11.575    -16.850  ...      9.350   304.25   \n",
       "1   137862.0    146343.0 -11.975    -16.600  ...      7.775   292.75   \n",
       "2   151154.0    196377.0  -9.025    -13.350  ...      8.350   305.50   \n",
       "3   328108.0    415589.0  -5.150     -8.175  ...      7.075   320.50   \n",
       "4   492717.0    594243.0  -6.350     -9.775  ...      7.775   305.75   \n",
       "\n",
       "   sealevelpressure  cloudcover  visibility  solarradiation  solarenergy  \\\n",
       "0          1026.925        0.00      16.000            0.00          NaN   \n",
       "1          1027.925        0.05      16.000           16.25        0.150   \n",
       "2          1028.500        0.25      15.525          330.25        1.175   \n",
       "3          1027.150        0.20      16.000          296.75        1.075   \n",
       "4          1027.750        0.20      16.000            2.50        0.000   \n",
       "\n",
       "   uvindex  Month  Day of Week  \n",
       "0     0.00      1            0  \n",
       "1     0.00      1            0  \n",
       "2     3.50      1            0  \n",
       "3     3.25      1            0  \n",
       "4     0.00      1            0  \n",
       "\n",
       "[5 rows x 27 columns]"
      ]
     },
     "execution_count": 2,
     "metadata": {},
     "output_type": "execute_result"
    }
   ],
   "source": [
    "data = pd.read_csv('Merged_Data.csv')\n",
    "data.head()"
   ]
  },
  {
   "cell_type": "code",
   "execution_count": 3,
   "id": "05e6e4c9",
   "metadata": {},
   "outputs": [
    {
     "name": "stdout",
     "output_type": "stream",
     "text": [
      "<class 'pandas.core.frame.DataFrame'>\n",
      "RangeIndex: 4380 entries, 0 to 4379\n",
      "Data columns (total 27 columns):\n",
      " #   Column            Non-Null Count  Dtype  \n",
      "---  ------            --------------  -----  \n",
      " 0   Unnamed: 0        4380 non-null   int64  \n",
      " 1   Date              4380 non-null   object \n",
      " 2   HOUR_BIN          4380 non-null   int64  \n",
      " 3   Citibike_Y        4380 non-null   int64  \n",
      " 4   GreenTaxi_Y       4380 non-null   float64\n",
      " 5   YellowTaxi_Y      4380 non-null   float64\n",
      " 6   MTAExit_Y         4380 non-null   float64\n",
      " 7   MTAEntry_Y        4380 non-null   float64\n",
      " 8   temp              4380 non-null   float64\n",
      " 9   feelslike         4380 non-null   float64\n",
      " 10  dew               4380 non-null   float64\n",
      " 11  humidity          4380 non-null   float64\n",
      " 12  precip            4380 non-null   float64\n",
      " 13  precipprob        4380 non-null   float64\n",
      " 14  snow              4380 non-null   float64\n",
      " 15  snowdepth         4380 non-null   float64\n",
      " 16  windgust          2332 non-null   float64\n",
      " 17  windspeed         4380 non-null   float64\n",
      " 18  winddir           4380 non-null   float64\n",
      " 19  sealevelpressure  4380 non-null   float64\n",
      " 20  cloudcover        4380 non-null   float64\n",
      " 21  visibility        4380 non-null   float64\n",
      " 22  solarradiation    4076 non-null   float64\n",
      " 23  solarenergy       3038 non-null   float64\n",
      " 24  uvindex           4076 non-null   float64\n",
      " 25  Month             4380 non-null   int64  \n",
      " 26  Day of Week       4380 non-null   int64  \n",
      "dtypes: float64(21), int64(5), object(1)\n",
      "memory usage: 924.0+ KB\n"
     ]
    }
   ],
   "source": [
    "data.info()"
   ]
  },
  {
   "cell_type": "code",
   "execution_count": 4,
   "id": "6766e85b",
   "metadata": {},
   "outputs": [],
   "source": [
    "data = data.drop('Unnamed: 0',axis=1).dropna(axis=1).reset_index()\n",
    "data =data.rename(columns={'index':'Day'})"
   ]
  },
  {
   "cell_type": "code",
   "execution_count": 5,
   "id": "92849a5d",
   "metadata": {},
   "outputs": [],
   "source": [
    "def split_X_and_Y(data):\n",
    "    list_=[]\n",
    "    for i in data.columns:\n",
    "        if '_Y' not in i:\n",
    "            list_.append(i)\n",
    "    X = data[list_].drop('Date',axis=1)\n",
    "    Y_plot = data[['Date','GreenTaxi_Y']]\n",
    "    Y = data[['GreenTaxi_Y']]\n",
    "    return X,Y\n",
    "X,Y = split_X_and_Y(data)"
   ]
  },
  {
   "cell_type": "code",
   "execution_count": 6,
   "id": "ac882a66",
   "metadata": {
    "scrolled": true
   },
   "outputs": [
    {
     "data": {
      "text/html": [
       "<div>\n",
       "<style scoped>\n",
       "    .dataframe tbody tr th:only-of-type {\n",
       "        vertical-align: middle;\n",
       "    }\n",
       "\n",
       "    .dataframe tbody tr th {\n",
       "        vertical-align: top;\n",
       "    }\n",
       "\n",
       "    .dataframe thead th {\n",
       "        text-align: right;\n",
       "    }\n",
       "</style>\n",
       "<table border=\"1\" class=\"dataframe\">\n",
       "  <thead>\n",
       "    <tr style=\"text-align: right;\">\n",
       "      <th></th>\n",
       "      <th>Day</th>\n",
       "      <th>HOUR_BIN</th>\n",
       "      <th>temp</th>\n",
       "      <th>feelslike</th>\n",
       "      <th>dew</th>\n",
       "      <th>humidity</th>\n",
       "      <th>precip</th>\n",
       "      <th>precipprob</th>\n",
       "      <th>snow</th>\n",
       "      <th>snowdepth</th>\n",
       "      <th>windspeed</th>\n",
       "      <th>winddir</th>\n",
       "      <th>sealevelpressure</th>\n",
       "      <th>cloudcover</th>\n",
       "      <th>visibility</th>\n",
       "      <th>Month</th>\n",
       "      <th>Day of Week</th>\n",
       "    </tr>\n",
       "  </thead>\n",
       "  <tbody>\n",
       "    <tr>\n",
       "      <th>count</th>\n",
       "      <td>4380.000000</td>\n",
       "      <td>4380.00000</td>\n",
       "      <td>4380.000000</td>\n",
       "      <td>4380.000000</td>\n",
       "      <td>4380.000000</td>\n",
       "      <td>4380.000000</td>\n",
       "      <td>4380.000000</td>\n",
       "      <td>4380.000000</td>\n",
       "      <td>4380.000000</td>\n",
       "      <td>4380.000000</td>\n",
       "      <td>4380.000000</td>\n",
       "      <td>4380.000000</td>\n",
       "      <td>4380.000000</td>\n",
       "      <td>4380.000000</td>\n",
       "      <td>4380.000000</td>\n",
       "      <td>4380.000000</td>\n",
       "      <td>4380.000000</td>\n",
       "    </tr>\n",
       "    <tr>\n",
       "      <th>mean</th>\n",
       "      <td>2189.500000</td>\n",
       "      <td>10.00000</td>\n",
       "      <td>32.767629</td>\n",
       "      <td>31.641096</td>\n",
       "      <td>23.847451</td>\n",
       "      <td>66.411185</td>\n",
       "      <td>0.168929</td>\n",
       "      <td>14.600457</td>\n",
       "      <td>0.009938</td>\n",
       "      <td>0.414431</td>\n",
       "      <td>9.182047</td>\n",
       "      <td>187.238761</td>\n",
       "      <td>1017.640556</td>\n",
       "      <td>23.261880</td>\n",
       "      <td>12.711252</td>\n",
       "      <td>6.526027</td>\n",
       "      <td>2.993151</td>\n",
       "    </tr>\n",
       "    <tr>\n",
       "      <th>std</th>\n",
       "      <td>1264.541419</td>\n",
       "      <td>6.83208</td>\n",
       "      <td>28.604967</td>\n",
       "      <td>29.872810</td>\n",
       "      <td>26.569764</td>\n",
       "      <td>17.552040</td>\n",
       "      <td>2.455728</td>\n",
       "      <td>28.391900</td>\n",
       "      <td>0.081623</td>\n",
       "      <td>1.877873</td>\n",
       "      <td>5.693534</td>\n",
       "      <td>99.282969</td>\n",
       "      <td>8.067116</td>\n",
       "      <td>22.528808</td>\n",
       "      <td>3.449083</td>\n",
       "      <td>3.448245</td>\n",
       "      <td>2.001928</td>\n",
       "    </tr>\n",
       "    <tr>\n",
       "      <th>min</th>\n",
       "      <td>0.000000</td>\n",
       "      <td>0.00000</td>\n",
       "      <td>-13.900000</td>\n",
       "      <td>-21.575000</td>\n",
       "      <td>-20.025000</td>\n",
       "      <td>15.270000</td>\n",
       "      <td>0.000000</td>\n",
       "      <td>0.000000</td>\n",
       "      <td>0.000000</td>\n",
       "      <td>0.000000</td>\n",
       "      <td>0.000000</td>\n",
       "      <td>0.000000</td>\n",
       "      <td>988.000000</td>\n",
       "      <td>0.000000</td>\n",
       "      <td>1.150000</td>\n",
       "      <td>1.000000</td>\n",
       "      <td>0.000000</td>\n",
       "    </tr>\n",
       "    <tr>\n",
       "      <th>25%</th>\n",
       "      <td>1094.750000</td>\n",
       "      <td>4.00000</td>\n",
       "      <td>8.625000</td>\n",
       "      <td>6.900000</td>\n",
       "      <td>1.700000</td>\n",
       "      <td>53.334167</td>\n",
       "      <td>0.000000</td>\n",
       "      <td>0.000000</td>\n",
       "      <td>0.000000</td>\n",
       "      <td>0.000000</td>\n",
       "      <td>5.150000</td>\n",
       "      <td>88.000000</td>\n",
       "      <td>1012.400000</td>\n",
       "      <td>1.050000</td>\n",
       "      <td>9.900000</td>\n",
       "      <td>4.000000</td>\n",
       "      <td>1.000000</td>\n",
       "    </tr>\n",
       "    <tr>\n",
       "      <th>50%</th>\n",
       "      <td>2189.500000</td>\n",
       "      <td>10.00000</td>\n",
       "      <td>22.170833</td>\n",
       "      <td>21.825000</td>\n",
       "      <td>15.525000</td>\n",
       "      <td>65.510417</td>\n",
       "      <td>0.000000</td>\n",
       "      <td>0.000000</td>\n",
       "      <td>0.000000</td>\n",
       "      <td>0.000000</td>\n",
       "      <td>7.925000</td>\n",
       "      <td>217.375000</td>\n",
       "      <td>1017.750000</td>\n",
       "      <td>17.137500</td>\n",
       "      <td>14.387500</td>\n",
       "      <td>7.000000</td>\n",
       "      <td>3.000000</td>\n",
       "    </tr>\n",
       "    <tr>\n",
       "      <th>75%</th>\n",
       "      <td>3284.250000</td>\n",
       "      <td>16.00000</td>\n",
       "      <td>62.706250</td>\n",
       "      <td>62.706250</td>\n",
       "      <td>50.700000</td>\n",
       "      <td>81.000000</td>\n",
       "      <td>0.002250</td>\n",
       "      <td>25.000000</td>\n",
       "      <td>0.000000</td>\n",
       "      <td>0.000000</td>\n",
       "      <td>11.881250</td>\n",
       "      <td>268.000000</td>\n",
       "      <td>1022.850000</td>\n",
       "      <td>44.406250</td>\n",
       "      <td>16.000000</td>\n",
       "      <td>10.000000</td>\n",
       "      <td>5.000000</td>\n",
       "    </tr>\n",
       "    <tr>\n",
       "      <th>max</th>\n",
       "      <td>4379.000000</td>\n",
       "      <td>20.00000</td>\n",
       "      <td>95.750000</td>\n",
       "      <td>108.200000</td>\n",
       "      <td>75.925000</td>\n",
       "      <td>99.840000</td>\n",
       "      <td>73.935000</td>\n",
       "      <td>100.000000</td>\n",
       "      <td>2.667500</td>\n",
       "      <td>19.360000</td>\n",
       "      <td>39.100000</td>\n",
       "      <td>359.750000</td>\n",
       "      <td>1043.725000</td>\n",
       "      <td>100.000000</td>\n",
       "      <td>16.000000</td>\n",
       "      <td>12.000000</td>\n",
       "      <td>6.000000</td>\n",
       "    </tr>\n",
       "  </tbody>\n",
       "</table>\n",
       "</div>"
      ],
      "text/plain": [
       "               Day    HOUR_BIN         temp    feelslike          dew  \\\n",
       "count  4380.000000  4380.00000  4380.000000  4380.000000  4380.000000   \n",
       "mean   2189.500000    10.00000    32.767629    31.641096    23.847451   \n",
       "std    1264.541419     6.83208    28.604967    29.872810    26.569764   \n",
       "min       0.000000     0.00000   -13.900000   -21.575000   -20.025000   \n",
       "25%    1094.750000     4.00000     8.625000     6.900000     1.700000   \n",
       "50%    2189.500000    10.00000    22.170833    21.825000    15.525000   \n",
       "75%    3284.250000    16.00000    62.706250    62.706250    50.700000   \n",
       "max    4379.000000    20.00000    95.750000   108.200000    75.925000   \n",
       "\n",
       "          humidity       precip   precipprob         snow    snowdepth  \\\n",
       "count  4380.000000  4380.000000  4380.000000  4380.000000  4380.000000   \n",
       "mean     66.411185     0.168929    14.600457     0.009938     0.414431   \n",
       "std      17.552040     2.455728    28.391900     0.081623     1.877873   \n",
       "min      15.270000     0.000000     0.000000     0.000000     0.000000   \n",
       "25%      53.334167     0.000000     0.000000     0.000000     0.000000   \n",
       "50%      65.510417     0.000000     0.000000     0.000000     0.000000   \n",
       "75%      81.000000     0.002250    25.000000     0.000000     0.000000   \n",
       "max      99.840000    73.935000   100.000000     2.667500    19.360000   \n",
       "\n",
       "         windspeed      winddir  sealevelpressure   cloudcover   visibility  \\\n",
       "count  4380.000000  4380.000000       4380.000000  4380.000000  4380.000000   \n",
       "mean      9.182047   187.238761       1017.640556    23.261880    12.711252   \n",
       "std       5.693534    99.282969          8.067116    22.528808     3.449083   \n",
       "min       0.000000     0.000000        988.000000     0.000000     1.150000   \n",
       "25%       5.150000    88.000000       1012.400000     1.050000     9.900000   \n",
       "50%       7.925000   217.375000       1017.750000    17.137500    14.387500   \n",
       "75%      11.881250   268.000000       1022.850000    44.406250    16.000000   \n",
       "max      39.100000   359.750000       1043.725000   100.000000    16.000000   \n",
       "\n",
       "             Month  Day of Week  \n",
       "count  4380.000000  4380.000000  \n",
       "mean      6.526027     2.993151  \n",
       "std       3.448245     2.001928  \n",
       "min       1.000000     0.000000  \n",
       "25%       4.000000     1.000000  \n",
       "50%       7.000000     3.000000  \n",
       "75%      10.000000     5.000000  \n",
       "max      12.000000     6.000000  "
      ]
     },
     "execution_count": 6,
     "metadata": {},
     "output_type": "execute_result"
    }
   ],
   "source": [
    "X.describe()"
   ]
  },
  {
   "cell_type": "code",
   "execution_count": 7,
   "id": "0359de4f",
   "metadata": {},
   "outputs": [],
   "source": [
    "categorical = ['HOUR_BIN','Month','Day of Week']\n",
    "\n",
    "def onehotencoder(X,categorical):\n",
    "    for i in categorical:\n",
    "        X = X.drop(i,axis=1).merge(pd.get_dummies(X[i],prefix=i),left_index=True, right_index=True)\n",
    "    return X\n",
    "X_encoded = onehotencoder(X,categorical)"
   ]
  },
  {
   "cell_type": "code",
   "execution_count": 8,
   "id": "11f54f60",
   "metadata": {
    "scrolled": true
   },
   "outputs": [
    {
     "data": {
      "text/plain": [
       "Index(['Day', 'temp', 'feelslike', 'dew', 'humidity', 'precip', 'precipprob',\n",
       "       'snow', 'snowdepth', 'windspeed', 'winddir', 'sealevelpressure',\n",
       "       'cloudcover', 'visibility', 'HOUR_BIN_0', 'HOUR_BIN_4', 'HOUR_BIN_8',\n",
       "       'HOUR_BIN_12', 'HOUR_BIN_16', 'HOUR_BIN_20', 'Month_1', 'Month_2',\n",
       "       'Month_3', 'Month_4', 'Month_5', 'Month_6', 'Month_7', 'Month_8',\n",
       "       'Month_9', 'Month_10', 'Month_11', 'Month_12', 'Day of Week_0',\n",
       "       'Day of Week_1', 'Day of Week_2', 'Day of Week_3', 'Day of Week_4',\n",
       "       'Day of Week_5', 'Day of Week_6'],\n",
       "      dtype='object')"
      ]
     },
     "execution_count": 8,
     "metadata": {},
     "output_type": "execute_result"
    }
   ],
   "source": [
    "X_encoded.columns"
   ]
  },
  {
   "cell_type": "markdown",
   "id": "5bcd7f96",
   "metadata": {},
   "source": [
    "### Finding good correlators"
   ]
  },
  {
   "cell_type": "code",
   "execution_count": 9,
   "id": "570ce43d",
   "metadata": {},
   "outputs": [
    {
     "data": {
      "text/plain": [
       "['HOUR_BIN_4',\n",
       " 'Day',\n",
       " 'HOUR_BIN_16',\n",
       " 'HOUR_BIN_0',\n",
       " 'humidity',\n",
       " 'HOUR_BIN_12',\n",
       " 'HOUR_BIN_8',\n",
       " 'Month_2',\n",
       " 'Month_3',\n",
       " 'Month_1']"
      ]
     },
     "execution_count": 9,
     "metadata": {},
     "output_type": "execute_result"
    }
   ],
   "source": [
    "def bestcorrelators(X_encoded,n=10):\n",
    "    Xs = X_encoded.columns\n",
    "    n = min(n,len(X_encoded.columns))\n",
    "    list_=[]\n",
    "    for X in Xs:\n",
    "        XN = X.replace(' ','_')\n",
    "        temp = Y.merge(X_encoded[[X]],left_index=True, right_index=True).rename({X:XN},axis=1)\n",
    "        formula = 'GreenTaxi_Y'+'~'+ XN\n",
    "        lm = smf.ols(formula=formula,data=temp).fit()\n",
    "        list_.append([X,lm.rsquared])\n",
    "    bestn = pd.DataFrame(list_,columns = ['X','rsquared']).nlargest(n,'rsquared')\n",
    "    return list(bestn['X'].reset_index(drop=True))\n",
    "bestcorrelators(X_encoded)"
   ]
  },
  {
   "cell_type": "markdown",
   "id": "6516ba98",
   "metadata": {},
   "source": [
    "### Creating a metric to evaluate the model"
   ]
  },
  {
   "cell_type": "code",
   "execution_count": 10,
   "id": "5c28a66c",
   "metadata": {},
   "outputs": [],
   "source": [
    "def evaluatemodel(y_pred,y_test,percentage=5):\n",
    "    y_test = np.array(y_test).ravel()\n",
    "    minimum = y_test*(1-percentage/100)\n",
    "    maximum = y_test*(1+percentage/100)\n",
    "    temp = (y_pred<=maximum) & (y_pred>=minimum)\n",
    "    return temp.sum()/len(y_test)"
   ]
  },
  {
   "cell_type": "markdown",
   "id": "b0b8b10e",
   "metadata": {},
   "source": [
    "### Finding and removing outliers in data to prevent the model from skewing"
   ]
  },
  {
   "cell_type": "code",
   "execution_count": 11,
   "id": "c7c72020",
   "metadata": {},
   "outputs": [],
   "source": [
    "def removedensityoutliers(X_encoded,Y,factor=150):\n",
    "    n = len(X_encoded)//factor\n",
    "    temp = X_encoded.copy()\n",
    "    anom = LocalOutlierFactor(n_neighbors=n, novelty=False)\n",
    "    X_Out = anom.fit_predict(temp)\n",
    "    temp['Outlier'] = X_Out\n",
    "    indexes = temp[temp['Outlier'] == 1].index\n",
    "    return X_encoded.iloc[indexes].reset_index(drop=True),Y.iloc[indexes].reset_index(drop=True)\n",
    "X_Processed,Y_Processed = removedensityoutliers(X_encoded,Y)"
   ]
  },
  {
   "cell_type": "code",
   "execution_count": 12,
   "id": "a67f4986",
   "metadata": {},
   "outputs": [
    {
     "data": {
      "text/plain": [
       "0.9922374429223745"
      ]
     },
     "execution_count": 12,
     "metadata": {},
     "output_type": "execute_result"
    }
   ],
   "source": [
    "X_Processed.shape[0]/X_encoded.shape[0]"
   ]
  },
  {
   "cell_type": "code",
   "execution_count": 13,
   "id": "cd7f86be",
   "metadata": {},
   "outputs": [
    {
     "name": "stdout",
     "output_type": "stream",
     "text": [
      "<class 'pandas.core.frame.DataFrame'>\n",
      "RangeIndex: 4380 entries, 0 to 4379\n",
      "Data columns (total 39 columns):\n",
      " #   Column            Non-Null Count  Dtype  \n",
      "---  ------            --------------  -----  \n",
      " 0   Day               4380 non-null   int64  \n",
      " 1   temp              4380 non-null   float64\n",
      " 2   feelslike         4380 non-null   float64\n",
      " 3   dew               4380 non-null   float64\n",
      " 4   humidity          4380 non-null   float64\n",
      " 5   precip            4380 non-null   float64\n",
      " 6   precipprob        4380 non-null   float64\n",
      " 7   snow              4380 non-null   float64\n",
      " 8   snowdepth         4380 non-null   float64\n",
      " 9   windspeed         4380 non-null   float64\n",
      " 10  winddir           4380 non-null   float64\n",
      " 11  sealevelpressure  4380 non-null   float64\n",
      " 12  cloudcover        4380 non-null   float64\n",
      " 13  visibility        4380 non-null   float64\n",
      " 14  HOUR_BIN_0        4380 non-null   uint8  \n",
      " 15  HOUR_BIN_4        4380 non-null   uint8  \n",
      " 16  HOUR_BIN_8        4380 non-null   uint8  \n",
      " 17  HOUR_BIN_12       4380 non-null   uint8  \n",
      " 18  HOUR_BIN_16       4380 non-null   uint8  \n",
      " 19  HOUR_BIN_20       4380 non-null   uint8  \n",
      " 20  Month_1           4380 non-null   uint8  \n",
      " 21  Month_2           4380 non-null   uint8  \n",
      " 22  Month_3           4380 non-null   uint8  \n",
      " 23  Month_4           4380 non-null   uint8  \n",
      " 24  Month_5           4380 non-null   uint8  \n",
      " 25  Month_6           4380 non-null   uint8  \n",
      " 26  Month_7           4380 non-null   uint8  \n",
      " 27  Month_8           4380 non-null   uint8  \n",
      " 28  Month_9           4380 non-null   uint8  \n",
      " 29  Month_10          4380 non-null   uint8  \n",
      " 30  Month_11          4380 non-null   uint8  \n",
      " 31  Month_12          4380 non-null   uint8  \n",
      " 32  Day of Week_0     4380 non-null   uint8  \n",
      " 33  Day of Week_1     4380 non-null   uint8  \n",
      " 34  Day of Week_2     4380 non-null   uint8  \n",
      " 35  Day of Week_3     4380 non-null   uint8  \n",
      " 36  Day of Week_4     4380 non-null   uint8  \n",
      " 37  Day of Week_5     4380 non-null   uint8  \n",
      " 38  Day of Week_6     4380 non-null   uint8  \n",
      "dtypes: float64(13), int64(1), uint8(25)\n",
      "memory usage: 586.1 KB\n"
     ]
    }
   ],
   "source": [
    "X_encoded.info()"
   ]
  },
  {
   "cell_type": "markdown",
   "id": "a0b76b99",
   "metadata": {},
   "source": [
    "### Building a Model"
   ]
  },
  {
   "cell_type": "code",
   "execution_count": 14,
   "id": "0349523e",
   "metadata": {
    "scrolled": true
   },
   "outputs": [
    {
     "name": "stdout",
     "output_type": "stream",
     "text": [
      "['Day', 'HOUR_BIN_16', 'HOUR_BIN_4', 'feelslike', 'Month_2', 'temp', 'Month_3', 'HOUR_BIN_12', 'dew', 'Month_1', 'HOUR_BIN_0', 'Month_11', 'Month_9', 'Month_8', 'humidity', 'Month_12', 'snowdepth', 'HOUR_BIN_8', 'Month_4', 'snow', 'Month_10', 'sealevelpressure', 'Day of Week_4', 'Day of Week_3', 'visibility']\n",
      "Fitting 2 folds for each of 12 candidates, totalling 24 fits\n",
      "[CV 1/2] END ccp_alpha=0.1, criterion=squared_error, max_features=sqrt, n_estimators=1000;, score=0.829 total time=   1.8s\n",
      "[CV 2/2] END ccp_alpha=0.1, criterion=squared_error, max_features=sqrt, n_estimators=1000;, score=0.843 total time=   1.8s\n",
      "[CV 1/2] END ccp_alpha=0.1, criterion=squared_error, max_features=log2, n_estimators=1000;, score=0.822 total time=   1.6s\n",
      "[CV 2/2] END ccp_alpha=0.1, criterion=squared_error, max_features=log2, n_estimators=1000;, score=0.834 total time=   1.7s\n",
      "[CV 1/2] END ccp_alpha=0.1, criterion=squared_error, max_features=None, n_estimators=1000;, score=0.839 total time=   5.0s\n",
      "[CV 2/2] END ccp_alpha=0.1, criterion=squared_error, max_features=None, n_estimators=1000;, score=0.848 total time=   4.9s\n",
      "[CV 1/2] END ccp_alpha=0.1, criterion=poisson, max_features=sqrt, n_estimators=1000;, score=0.828 total time=   3.0s\n",
      "[CV 2/2] END ccp_alpha=0.1, criterion=poisson, max_features=sqrt, n_estimators=1000;, score=0.843 total time=   3.0s\n",
      "[CV 1/2] END ccp_alpha=0.1, criterion=poisson, max_features=log2, n_estimators=1000;, score=0.820 total time=   2.7s\n",
      "[CV 2/2] END ccp_alpha=0.1, criterion=poisson, max_features=log2, n_estimators=1000;, score=0.833 total time=   2.7s\n",
      "[CV 1/2] END ccp_alpha=0.1, criterion=poisson, max_features=None, n_estimators=1000;, score=0.839 total time=   7.0s\n",
      "[CV 2/2] END ccp_alpha=0.1, criterion=poisson, max_features=None, n_estimators=1000;, score=0.850 total time=   7.8s\n",
      "[CV 1/2] END ccp_alpha=0.01, criterion=squared_error, max_features=sqrt, n_estimators=1000;, score=0.828 total time=   1.8s\n",
      "[CV 2/2] END ccp_alpha=0.01, criterion=squared_error, max_features=sqrt, n_estimators=1000;, score=0.843 total time=   1.8s\n",
      "[CV 1/2] END ccp_alpha=0.01, criterion=squared_error, max_features=log2, n_estimators=1000;, score=0.822 total time=   1.7s\n",
      "[CV 2/2] END ccp_alpha=0.01, criterion=squared_error, max_features=log2, n_estimators=1000;, score=0.833 total time=   1.6s\n",
      "[CV 1/2] END ccp_alpha=0.01, criterion=squared_error, max_features=None, n_estimators=1000;, score=0.840 total time=   5.0s\n",
      "[CV 2/2] END ccp_alpha=0.01, criterion=squared_error, max_features=None, n_estimators=1000;, score=0.847 total time=   4.9s\n",
      "[CV 1/2] END ccp_alpha=0.01, criterion=poisson, max_features=sqrt, n_estimators=1000;, score=0.829 total time=   2.6s\n",
      "[CV 2/2] END ccp_alpha=0.01, criterion=poisson, max_features=sqrt, n_estimators=1000;, score=0.844 total time=   2.6s\n",
      "[CV 1/2] END ccp_alpha=0.01, criterion=poisson, max_features=log2, n_estimators=1000;, score=0.823 total time=   2.4s\n",
      "[CV 2/2] END ccp_alpha=0.01, criterion=poisson, max_features=log2, n_estimators=1000;, score=0.836 total time=   2.4s\n",
      "[CV 1/2] END ccp_alpha=0.01, criterion=poisson, max_features=None, n_estimators=1000;, score=0.839 total time=   6.6s\n",
      "[CV 2/2] END ccp_alpha=0.01, criterion=poisson, max_features=None, n_estimators=1000;, score=0.850 total time=   6.5s\n"
     ]
    },
    {
     "data": {
      "text/plain": [
       "{'ccp_alpha': 0.01,\n",
       " 'criterion': 'poisson',\n",
       " 'max_features': None,\n",
       " 'n_estimators': 1000}"
      ]
     },
     "execution_count": 14,
     "metadata": {},
     "output_type": "execute_result"
    }
   ],
   "source": [
    "Number_of_predictors = 25\n",
    "Outlier_Factor = 150\n",
    "\n",
    "s=np.linspace(10,30,20)\n",
    "s = s.astype(int)\n",
    "\n",
    "X_Processed,Y_Processed = removedensityoutliers(X_encoded,Y,Outlier_Factor)\n",
    "\n",
    "Y_array = np.array(Y_Processed['GreenTaxi_Y'])\n",
    "X_train, X_test, y_train, y_test = train_test_split(X_Processed,Y_array+0.00001, test_size=0.25, random_state=123)\n",
    "\n",
    "\n",
    "#finding the best correlators from training data\n",
    "Xs = bestcorrelators(X_train,Number_of_predictors)\n",
    "\n",
    "print(Xs)\n",
    "\n",
    "\n",
    "#Using only those features\n",
    "X_train = np.array(X_train[Xs])\n",
    "X_test = np.array(X_test[Xs])\n",
    "\n",
    "\n",
    "#Standardizing the data\n",
    "scaler = StandardScaler()\n",
    "X_train = scaler.fit_transform(X_train)\n",
    "X_test = scaler.fit_transform(X_test)\n",
    "\n",
    "\n",
    "#Testing out different models\n",
    "param_grid_lr = {}\n",
    "lr = LinearRegression()\n",
    "\n",
    "param_grid_svr = {'kernel':['rbf'],'degree':range(30,31),'gamma':['scale','auto']}\n",
    "svr = SVR()\n",
    "\n",
    "param_grid_sgd = {'penalty':['l1','l2'],'alpha':[1e-6,1e-5,1e-4,1e-3,1e-2],'max_iter':[100000]}\n",
    "sgd=SGDRegressor()\n",
    "\n",
    "\n",
    "param_grid_dtr = {'random_state':[123],'min_samples_leaf':[0.001],'max_depth':s,'splitter':['best'],'criterion':['squared_error','friedman_mse','absolute_error','poisson'],'max_features':['auto','sqrt','log2'],'ccp_alpha':[1e-2,1e-1,1]}\n",
    "dtr=DecisionTreeRegressor()\n",
    "\n",
    "\n",
    "param_grid_rfr = {'n_estimators':[1000],'criterion':['squared_error','poisson'],'max_features':['sqrt','log2',None],'ccp_alpha':[1e-1,1e-2]}\n",
    "rfr = RandomForestRegressor()\n",
    "\n",
    "\n",
    "param_grid_gbr = {'loss':['squared_error','absolute_error'],'criterion': ['friedman_mse','squared_error'],'learning_rate':[0.01,0.1],'n_estimators':[1000,2000],'ccp_alpha':[1,1e-1]}\n",
    "gbr = GradientBoostingRegressor()\n",
    "\n",
    "\n",
    "\n",
    "#Using gridsearch for hyperparamter optimization\n",
    "\n",
    "\n",
    "#Linear methods\n",
    "#gr=GridSearchCV(lr,param_grid=param_grid_lr,cv=5,)\n",
    "#gr=GridSearchCV(svr,param_grid=param_grid_svr,cv=5)\n",
    "#gr=GridSearchCV(sgd,param_grid=param_grid_sgd,cv=5)\n",
    "#gr.fit(X_train,np.log(np.array(y_train)).ravel())\n",
    "\n",
    "\n",
    "#Tree and ensemble based\n",
    "\n",
    "#gr=GridSearchCV(dtr,param_grid=param_grid_dtr,cv=2)\n",
    "gr=GridSearchCV(rfr,param_grid=param_grid_rfr,cv=2,verbose=3)\n",
    "#gr =GridSearchCV(gbr,param_grid=param_grid_gbr,cv=2,verbose=1)\n",
    "gr.fit(X_train,np.array(y_train).ravel())                  \n",
    "\n",
    "#Output the best parameter\n",
    "gr.best_params_"
   ]
  },
  {
   "cell_type": "markdown",
   "id": "adb0a6ae",
   "metadata": {},
   "source": [
    "<b> In sample error"
   ]
  },
  {
   "cell_type": "code",
   "execution_count": 15,
   "id": "964ce7f5",
   "metadata": {},
   "outputs": [
    {
     "data": {
      "text/plain": [
       "0.0"
      ]
     },
     "execution_count": 15,
     "metadata": {},
     "output_type": "execute_result"
    }
   ],
   "source": [
    "#If using lr,svr or sgd\n",
    "y_pred = gr.predict(X_train)\n",
    "evaluatemodel(y_pred,np.log(y_train),10)"
   ]
  },
  {
   "cell_type": "code",
   "execution_count": 16,
   "id": "b48315fd",
   "metadata": {
    "scrolled": true
   },
   "outputs": [
    {
     "data": {
      "text/plain": [
       "0.8432034366370053"
      ]
     },
     "execution_count": 16,
     "metadata": {},
     "output_type": "execute_result"
    }
   ],
   "source": [
    "#If using tre based methods\n",
    "y_pred = gr.predict(X_train)\n",
    "evaluatemodel(y_pred,y_train,15)"
   ]
  },
  {
   "cell_type": "markdown",
   "id": "1ad8ce65",
   "metadata": {},
   "source": [
    "<b> Out of sample error"
   ]
  },
  {
   "cell_type": "code",
   "execution_count": 17,
   "id": "71c064f3",
   "metadata": {
    "scrolled": true
   },
   "outputs": [
    {
     "data": {
      "text/plain": [
       "0.0"
      ]
     },
     "execution_count": 17,
     "metadata": {},
     "output_type": "execute_result"
    }
   ],
   "source": [
    "#Ifusing lr,svr or sgd\n",
    "y_pred = gr.predict(X_test)\n",
    "evaluatemodel(y_pred,np.log(y_test),10)"
   ]
  },
  {
   "cell_type": "code",
   "execution_count": 18,
   "id": "390b312d",
   "metadata": {
    "scrolled": false
   },
   "outputs": [
    {
     "data": {
      "text/plain": [
       "0.5970561177552898"
      ]
     },
     "execution_count": 18,
     "metadata": {},
     "output_type": "execute_result"
    }
   ],
   "source": [
    "#if using tre based methods\n",
    "y_pred = gr.predict(X_test)\n",
    "evaluatemodel(y_pred,y_test,15)"
   ]
  },
  {
   "cell_type": "code",
   "execution_count": 19,
   "id": "bb6f0905",
   "metadata": {},
   "outputs": [],
   "source": [
    "predictions =  pd.DataFrame([y_test,y_pred]).transpose().sort_values(0).reset_index(drop=True).rename({0:'Actual',1:'Predicted'},axis=1)\n",
    "#predictions =  pd.DataFrame([np.exp(y_test),np.exp(y_pred)]).transpose().sort_values(1).reset_index(drop=True)"
   ]
  },
  {
   "cell_type": "code",
   "execution_count": 20,
   "id": "957d7a54",
   "metadata": {
    "scrolled": false
   },
   "outputs": [
    {
     "data": {
      "text/plain": [
       "<AxesSubplot:>"
      ]
     },
     "execution_count": 20,
     "metadata": {},
     "output_type": "execute_result"
    },
    {
     "data": {
      "image/png": "[encoded data removed]",
      "text/plain": [
       "<Figure size 2000x500 with 1 Axes>"
      ]
     },
     "metadata": {},
     "output_type": "display_data"
    }
   ],
   "source": [
    "predictions[150:200].plot.bar(figsize=(20,5))"
   ]
  },
  {
   "cell_type": "code",
   "execution_count": null,
   "id": "3e163899",
   "metadata": {},
   "outputs": [],
   "source": []
  }
 ],
 "metadata": {
  "kernelspec": {
   "display_name": "Python 3 (ipykernel)",
   "language": "python",
   "name": "python3"
  },
  "language_info": {
   "codemirror_mode": {
    "name": "ipython",
    "version": 3
   },
   "file_extension": ".py",
   "mimetype": "text/x-python",
   "name": "python",
   "nbconvert_exporter": "python",
   "pygments_lexer": "ipython3",
   "version": "3.10.6"
  }
 },
 "nbformat": 4,
 "nbformat_minor": 5
}
